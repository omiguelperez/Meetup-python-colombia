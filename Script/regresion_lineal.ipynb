{
  "nbformat": 4,
  "nbformat_minor": 0,
  "metadata": {
    "language_info": {
      "codemirror_mode": {
        "name": "ipython",
        "version": 3
      },
      "file_extension": ".py",
      "mimetype": "text/x-python",
      "name": "python",
      "nbconvert_exporter": "python",
      "pygments_lexer": "ipython3",
      "version": "3.7.3-final"
    },
    "orig_nbformat": 2,
    "kernelspec": {
      "name": "python3",
      "display_name": "Python 3"
    },
    "colab": {
      "name": "regresion lineal.ipynb",
      "provenance": [],
      "collapsed_sections": []
    }
  },
  "cells": [
    {
      "cell_type": "code",
      "metadata": {
        "id": "KbaDnSOKDeg9",
        "colab_type": "code",
        "colab": {}
      },
      "source": [
        "import pandas as pd\n",
        "import matplotlib.pyplot as plt\n",
        "from sklearn.model_selection import train_test_split\n",
        "from sklearn.linear_model import LinearRegression\n"
      ],
      "execution_count": 0,
      "outputs": []
    },
    {
      "cell_type": "code",
      "metadata": {
        "id": "8LK-MD-VzhCS",
        "colab_type": "code",
        "colab": {
          "base_uri": "https://localhost:8080/",
          "height": 576
        },
        "outputId": "8694695b-2066-4663-fae9-f1cea4f79ace"
      },
      "source": [
        "dataset = pd.read_csv('Encuesta.csv')\n",
        "dataset"
      ],
      "execution_count": 184,
      "outputs": [
        {
          "output_type": "execute_result",
          "data": {
            "text/html": [
              "<div>\n",
              "<style scoped>\n",
              "    .dataframe tbody tr th:only-of-type {\n",
              "        vertical-align: middle;\n",
              "    }\n",
              "\n",
              "    .dataframe tbody tr th {\n",
              "        vertical-align: top;\n",
              "    }\n",
              "\n",
              "    .dataframe thead th {\n",
              "        text-align: right;\n",
              "    }\n",
              "</style>\n",
              "<table border=\"1\" class=\"dataframe\">\n",
              "  <thead>\n",
              "    <tr style=\"text-align: right;\">\n",
              "      <th></th>\n",
              "      <th>First name (Optionall)</th>\n",
              "      <th>Years</th>\n",
              "      <th>Country</th>\n",
              "      <th>language Programming</th>\n",
              "      <th>Other Technology</th>\n",
              "      <th>Area dedicated</th>\n",
              "      <th>Age of experience</th>\n",
              "      <th>salary minimum (pesos COP)</th>\n",
              "    </tr>\n",
              "  </thead>\n",
              "  <tbody>\n",
              "    <tr>\n",
              "      <th>0</th>\n",
              "      <td>Sergio</td>\n",
              "      <td>21</td>\n",
              "      <td>Colombia</td>\n",
              "      <td>Python</td>\n",
              "      <td>R</td>\n",
              "      <td>Data Scientist</td>\n",
              "      <td>1.0</td>\n",
              "      <td>3000000</td>\n",
              "    </tr>\n",
              "    <tr>\n",
              "      <th>1</th>\n",
              "      <td>Alberto</td>\n",
              "      <td>22</td>\n",
              "      <td>Colombia</td>\n",
              "      <td>Javascript</td>\n",
              "      <td>Php</td>\n",
              "      <td>Back-end and Front-end</td>\n",
              "      <td>0.6</td>\n",
              "      <td>1800000</td>\n",
              "    </tr>\n",
              "    <tr>\n",
              "      <th>2</th>\n",
              "      <td>Nicolas</td>\n",
              "      <td>24</td>\n",
              "      <td>Colombia</td>\n",
              "      <td>Python</td>\n",
              "      <td>NaN</td>\n",
              "      <td>AI &amp; Data Science</td>\n",
              "      <td>1.0</td>\n",
              "      <td>5000000</td>\n",
              "    </tr>\n",
              "    <tr>\n",
              "      <th>3</th>\n",
              "      <td>Cristian</td>\n",
              "      <td>21</td>\n",
              "      <td>Colombia</td>\n",
              "      <td>Javasript</td>\n",
              "      <td>NaN</td>\n",
              "      <td>Back-end and Front-end</td>\n",
              "      <td>0.8</td>\n",
              "      <td>2500000</td>\n",
              "    </tr>\n",
              "    <tr>\n",
              "      <th>4</th>\n",
              "      <td>Nathaly</td>\n",
              "      <td>20</td>\n",
              "      <td>Colombia</td>\n",
              "      <td>Java</td>\n",
              "      <td>NaN</td>\n",
              "      <td>Analyst</td>\n",
              "      <td>0.0</td>\n",
              "      <td>2500000</td>\n",
              "    </tr>\n",
              "    <tr>\n",
              "      <th>5</th>\n",
              "      <td>Jackson</td>\n",
              "      <td>21</td>\n",
              "      <td>Colombia</td>\n",
              "      <td>Js</td>\n",
              "      <td>NaN</td>\n",
              "      <td>Front-end</td>\n",
              "      <td>0.4</td>\n",
              "      <td>1800000</td>\n",
              "    </tr>\n",
              "    <tr>\n",
              "      <th>6</th>\n",
              "      <td>Jerson</td>\n",
              "      <td>27</td>\n",
              "      <td>Colombia</td>\n",
              "      <td>Java</td>\n",
              "      <td>JavaScript</td>\n",
              "      <td>Developer Android-IOS</td>\n",
              "      <td>2.0</td>\n",
              "      <td>4800000</td>\n",
              "    </tr>\n",
              "    <tr>\n",
              "      <th>7</th>\n",
              "      <td>Alejandro</td>\n",
              "      <td>22</td>\n",
              "      <td>Colombia</td>\n",
              "      <td>Javascrip</td>\n",
              "      <td>UI design</td>\n",
              "      <td>Design</td>\n",
              "      <td>1.0</td>\n",
              "      <td>1000000</td>\n",
              "    </tr>\n",
              "    <tr>\n",
              "      <th>8</th>\n",
              "      <td>Juan</td>\n",
              "      <td>21</td>\n",
              "      <td>Colombia</td>\n",
              "      <td>Data Bases</td>\n",
              "      <td>NaN</td>\n",
              "      <td>Design and management</td>\n",
              "      <td>0.6</td>\n",
              "      <td>1000000</td>\n",
              "    </tr>\n",
              "    <tr>\n",
              "      <th>9</th>\n",
              "      <td>Constan</td>\n",
              "      <td>23</td>\n",
              "      <td>Colombia</td>\n",
              "      <td>Data bases</td>\n",
              "      <td>NaN</td>\n",
              "      <td>Design and management</td>\n",
              "      <td>1.0</td>\n",
              "      <td>1500000</td>\n",
              "    </tr>\n",
              "    <tr>\n",
              "      <th>10</th>\n",
              "      <td>Cesar</td>\n",
              "      <td>21</td>\n",
              "      <td>Colombia</td>\n",
              "      <td>Python</td>\n",
              "      <td>C++</td>\n",
              "      <td>web developer</td>\n",
              "      <td>1.0</td>\n",
              "      <td>5000000</td>\n",
              "    </tr>\n",
              "    <tr>\n",
              "      <th>11</th>\n",
              "      <td>Brayan</td>\n",
              "      <td>20</td>\n",
              "      <td>colombia</td>\n",
              "      <td>Data Bases</td>\n",
              "      <td>NaN</td>\n",
              "      <td>Design and management</td>\n",
              "      <td>0.3</td>\n",
              "      <td>1000000</td>\n",
              "    </tr>\n",
              "    <tr>\n",
              "      <th>12</th>\n",
              "      <td>Cristian</td>\n",
              "      <td>18</td>\n",
              "      <td>colombia</td>\n",
              "      <td>Database</td>\n",
              "      <td>Java</td>\n",
              "      <td>Back-end and Front-end</td>\n",
              "      <td>2.0</td>\n",
              "      <td>7000000</td>\n",
              "    </tr>\n",
              "    <tr>\n",
              "      <th>13</th>\n",
              "      <td>Jefferson</td>\n",
              "      <td>23</td>\n",
              "      <td>colombia</td>\n",
              "      <td>java</td>\n",
              "      <td>NaN</td>\n",
              "      <td>Front-end</td>\n",
              "      <td>1.3</td>\n",
              "      <td>2400000</td>\n",
              "    </tr>\n",
              "    <tr>\n",
              "      <th>14</th>\n",
              "      <td>Oscar</td>\n",
              "      <td>21</td>\n",
              "      <td>colombia</td>\n",
              "      <td>Python</td>\n",
              "      <td>Java</td>\n",
              "      <td>Design and management</td>\n",
              "      <td>1.5</td>\n",
              "      <td>3000000</td>\n",
              "    </tr>\n",
              "    <tr>\n",
              "      <th>15</th>\n",
              "      <td>Carlos</td>\n",
              "      <td>28</td>\n",
              "      <td>Colombia</td>\n",
              "      <td>Java</td>\n",
              "      <td>Python</td>\n",
              "      <td>Desing and management</td>\n",
              "      <td>1.0</td>\n",
              "      <td>3700000</td>\n",
              "    </tr>\n",
              "    <tr>\n",
              "      <th>16</th>\n",
              "      <td>Sergio Alvis</td>\n",
              "      <td>22</td>\n",
              "      <td>Colombia</td>\n",
              "      <td>Java</td>\n",
              "      <td>NaN</td>\n",
              "      <td>Documentation</td>\n",
              "      <td>2.0</td>\n",
              "      <td>2000000</td>\n",
              "    </tr>\n",
              "  </tbody>\n",
              "</table>\n",
              "</div>"
            ],
            "text/plain": [
              "   First name (Optionall)  Years  ... Age of experience salary minimum (pesos COP)\n",
              "0                  Sergio     21  ...               1.0                    3000000\n",
              "1                 Alberto     22  ...               0.6                    1800000\n",
              "2                Nicolas      24  ...               1.0                    5000000\n",
              "3                Cristian     21  ...               0.8                    2500000\n",
              "4                 Nathaly     20  ...               0.0                    2500000\n",
              "5                 Jackson     21  ...               0.4                    1800000\n",
              "6                  Jerson     27  ...               2.0                    4800000\n",
              "7               Alejandro     22  ...               1.0                    1000000\n",
              "8                    Juan     21  ...               0.6                    1000000\n",
              "9                 Constan     23  ...               1.0                    1500000\n",
              "10                  Cesar     21  ...               1.0                    5000000\n",
              "11                 Brayan     20  ...               0.3                    1000000\n",
              "12               Cristian     18  ...               2.0                    7000000\n",
              "13              Jefferson     23  ...               1.3                    2400000\n",
              "14                  Oscar     21  ...               1.5                    3000000\n",
              "15                 Carlos     28  ...               1.0                    3700000\n",
              "16           Sergio Alvis     22  ...               2.0                    2000000\n",
              "\n",
              "[17 rows x 8 columns]"
            ]
          },
          "metadata": {
            "tags": []
          },
          "execution_count": 184
        }
      ]
    },
    {
      "cell_type": "code",
      "metadata": {
        "id": "yDPGzHnSDehE",
        "colab_type": "code",
        "outputId": "e568dac3-6ae2-45db-88bd-9ea808e9c563",
        "colab": {
          "base_uri": "https://localhost:8080/",
          "height": 34
        }
      },
      "source": [
        "dataset.shape"
      ],
      "execution_count": 185,
      "outputs": [
        {
          "output_type": "execute_result",
          "data": {
            "text/plain": [
              "(17, 8)"
            ]
          },
          "metadata": {
            "tags": []
          },
          "execution_count": 185
        }
      ]
    },
    {
      "cell_type": "code",
      "metadata": {
        "id": "NWTdnCeGDehH",
        "colab_type": "code",
        "colab": {}
      },
      "source": [
        "X = dataset[['Age of experience']].values\n",
        "y = dataset[['salary minimum (pesos COP)']].values"
      ],
      "execution_count": 0,
      "outputs": []
    },
    {
      "cell_type": "code",
      "metadata": {
        "id": "CfIuQVDNDehK",
        "colab_type": "code",
        "colab": {}
      },
      "source": [
        "X_train, X_test, y_train, y_test = train_test_split(X,y, test_size = 0.1, random_state = 0)"
      ],
      "execution_count": 0,
      "outputs": []
    },
    {
      "cell_type": "code",
      "metadata": {
        "id": "1fci0GFWDehQ",
        "colab_type": "code",
        "outputId": "ba3d28fb-f44f-4b63-aa49-109c944214bc",
        "colab": {
          "base_uri": "https://localhost:8080/",
          "height": 34
        }
      },
      "source": [
        "regressor = LinearRegression()\n",
        "regressor.fit(X_train, y_train)"
      ],
      "execution_count": 203,
      "outputs": [
        {
          "output_type": "execute_result",
          "data": {
            "text/plain": [
              "LinearRegression(copy_X=True, fit_intercept=True, n_jobs=None, normalize=False)"
            ]
          },
          "metadata": {
            "tags": []
          },
          "execution_count": 203
        }
      ]
    },
    {
      "cell_type": "code",
      "metadata": {
        "id": "7UviggTqDehU",
        "colab_type": "code",
        "outputId": "498811aa-c178-41a1-a9d8-5341d1a3e1ba",
        "colab": {
          "base_uri": "https://localhost:8080/",
          "height": 295
        }
      },
      "source": [
        "viz_train = plt\n",
        "viz_train.scatter(X_train, y_train, color = 'blue')\n",
        "viz_train.plot(X_train, regressor.predict(X_train), color = 'black')\n",
        "viz_train.title('Salario vs Experiencia')\n",
        "viz_train.xlabel('Experiencia')\n",
        "viz_train.ylabel('Salario')\n",
        "viz_train.show()"
      ],
      "execution_count": 204,
      "outputs": [
        {
          "output_type": "display_data",
          "data": {
            "image/png": "[encoded data removed]",
            "text/plain": [
              "<Figure size 432x288 with 1 Axes>"
            ]
          },
          "metadata": {
            "tags": [],
            "needs_background": "light"
          }
        }
      ]
    },
    {
      "cell_type": "code",
      "metadata": {
        "id": "M63pGjQkDehX",
        "colab_type": "code",
        "outputId": "2bc6a72d-c561-4489-ea69-a56e628e44a2",
        "colab": {
          "base_uri": "https://localhost:8080/",
          "height": 295
        }
      },
      "source": [
        "viz_train = plt\n",
        "viz_train.scatter(X_test, y_test, color = 'red')\n",
        "viz_train.plot(X_train, regressor.predict(X_train), color = 'black')\n",
        "viz_train.title('Salario vs Experiencia')\n",
        "viz_train.xlabel('Experiencia')\n",
        "viz_train.ylabel('Salario')\n",
        "viz_train.show()"
      ],
      "execution_count": 205,
      "outputs": [
        {
          "output_type": "display_data",
          "data": {
            "image/png": "[encoded data removed]",
            "text/plain": [
              "<Figure size 432x288 with 1 Axes>"
            ]
          },
          "metadata": {
            "tags": [],
            "needs_background": "light"
          }
        }
      ]
    },
    {
      "cell_type": "code",
      "metadata": {
        "id": "G0KR4xutDeha",
        "colab_type": "code",
        "outputId": "fbfa6d55-2879-4857-b818-30ef764281cd",
        "colab": {
          "base_uri": "https://localhost:8080/",
          "height": 34
        }
      },
      "source": [
        "regressor.score(X_test, y_test)"
      ],
      "execution_count": 206,
      "outputs": [
        {
          "output_type": "execute_result",
          "data": {
            "text/plain": [
              "0.8921137307144845"
            ]
          },
          "metadata": {
            "tags": []
          },
          "execution_count": 206
        }
      ]
    }
  ]
}